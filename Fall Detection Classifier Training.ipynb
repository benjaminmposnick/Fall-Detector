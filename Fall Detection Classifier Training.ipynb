{
 "cells": [
  {
   "cell_type": "markdown",
   "metadata": {},
   "source": [
    "# Fall Detection Classifier Training\n",
    "\n",
    "#### Author: Ben Posnick"
   ]
  },
  {
   "cell_type": "markdown",
   "metadata": {},
   "source": [
    "### Create feature vectors for training and testing data\n",
    "\n",
    "See `preprocessing.py`."
   ]
  },
  {
   "cell_type": "code",
   "execution_count": 1,
   "metadata": {},
   "outputs": [
    {
     "name": "stdout",
     "output_type": "stream",
     "text": [
      "\n",
      "Distribution of training labels:\n",
      "Total examples: 9624\n",
      "Class 0: 1250\n",
      "Class 1: 874\n",
      "Class 2: 1250\n",
      "Class 3: 1250\n",
      "Class 4: 1250\n",
      "Class 5: 1250\n",
      "Class 6: 1250\n",
      "Class 7: 1250\n",
      "\n",
      "Distribution of testing labels:\n",
      "Total examples: 6745\n",
      "Class 0: 1001\n",
      "Class 1: 122\n",
      "Class 2: 207\n",
      "Class 3: 2869\n",
      "Class 4: 1350\n",
      "Class 5: 721\n",
      "Class 6: 320\n",
      "Class 7: 155\n"
     ]
    }
   ],
   "source": [
    "import numpy as np\n",
    "import pandas as pd\n",
    "from preprocessing import *\n",
    "\n",
    "N_CLASSES = 8\n",
    "N_TEST_SUBJECTS = 4\n",
    "X_train, y_train = create_feature_vectors(\"./data/sensor_data_training.csv\", False)\n",
    "X_test4, y_test4 = [], []\n",
    "for i in range(N_TEST_SUBJECTS):\n",
    "    file_name = \"./data/sensor_data_subject_A0\" + str(i+1) + \".csv\"\n",
    "    X, y = create_feature_vectors(file_name, True)\n",
    "    X_test4.append(X)\n",
    "    y_test4.append(y)\n",
    "X_test = np.concatenate(X_test4, axis=0)\n",
    "y_test = np.concatenate(y_test4, axis=0)\n",
    "\n",
    "print(\"\\nDistribution of training labels:\")\n",
    "print(\"Total examples:\", y_train.shape[0])\n",
    "for i in range(N_CLASSES):\n",
    "    print(\"Class \" + str(i) + \":\", sum(y_train == i))\n",
    "    \n",
    "print(\"\\nDistribution of testing labels:\")\n",
    "print(\"Total examples:\", y_test.shape[0])\n",
    "for i in range(N_CLASSES):\n",
    "    print(\"Class \" + str(i) + \":\", sum(y_test == i))\n",
    "    "
   ]
  },
  {
   "cell_type": "markdown",
   "metadata": {},
   "source": [
    "### Train and evaluate random forest classifier"
   ]
  },
  {
   "cell_type": "code",
   "execution_count": 2,
   "metadata": {
    "scrolled": true
   },
   "outputs": [
    {
     "name": "stdout",
     "output_type": "stream",
     "text": [
      "Training accuracy: 1.0\n",
      "Testing accuracy: 0.6800593031875464\n",
      "Class 0 accuracy: 0.6643356643356644\n",
      "Class 1 accuracy: 0.6311475409836066\n",
      "Class 2 accuracy: 0.6231884057971014\n",
      "Class 3 accuracy: 0.6556291390728477\n",
      "Class 4 accuracy: 0.7133333333333334\n",
      "Class 5 accuracy: 0.6893203883495146\n",
      "Class 6 accuracy: 0.921875\n",
      "Class 7 accuracy: 0.5161290322580645\n"
     ]
    }
   ],
   "source": [
    "from sklearn.tree import DecisionTreeClassifier\n",
    "from sklearn.ensemble import BaggingClassifier\n",
    "\n",
    "\n",
    "dt = DecisionTreeClassifier(criterion=\"entropy\", splitter=\"random\", max_depth=32,\n",
    "                            class_weight=\"balanced\", random_state=0)\n",
    "rf = BaggingClassifier(base_estimator=dt, n_estimators=256, random_state=0).fit(X_train, y_train)\n",
    "\n",
    "train_acc = rf.score(X_train, y_train)\n",
    "test_acc = rf.score(X_test, y_test)\n",
    "print(\"Training accuracy:\", train_acc)\n",
    "print(\"Testing accuracy:\", test_acc)\n",
    "for i in range(N_CLASSES):\n",
    "    idxs = y_test==i\n",
    "    label_acc = rf.score(X_test[idxs], y_test[idxs])\n",
    "    print(\"Class \" + str(i) + \" accuracy:\", label_acc)\n"
   ]
  },
  {
   "cell_type": "markdown",
   "metadata": {},
   "source": [
    "### Save model "
   ]
  },
  {
   "cell_type": "code",
   "execution_count": 3,
   "metadata": {},
   "outputs": [
    {
     "data": {
      "text/plain": [
       "['./models/fall-detector-random-forest.joblib']"
      ]
     },
     "execution_count": 3,
     "metadata": {},
     "output_type": "execute_result"
    }
   ],
   "source": [
    "from joblib import dump\n",
    "\n",
    "model_name = \"fall-detector-random-forest\"\n",
    "dump(rf, \"./models/\" + model_name + \".joblib\") "
   ]
  },
  {
   "cell_type": "code",
   "execution_count": null,
   "metadata": {},
   "outputs": [],
   "source": []
  }
 ],
 "metadata": {
  "kernelspec": {
   "display_name": "Python 3",
   "language": "python",
   "name": "python3"
  },
  "language_info": {
   "codemirror_mode": {
    "name": "ipython",
    "version": 3
   },
   "file_extension": ".py",
   "mimetype": "text/x-python",
   "name": "python",
   "nbconvert_exporter": "python",
   "pygments_lexer": "ipython3",
   "version": "3.7.6"
  }
 },
 "nbformat": 4,
 "nbformat_minor": 4
}
